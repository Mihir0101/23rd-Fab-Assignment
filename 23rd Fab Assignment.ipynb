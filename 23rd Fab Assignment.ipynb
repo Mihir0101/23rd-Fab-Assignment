{
 "cells": [
  {
   "cell_type": "code",
   "execution_count": 1,
   "id": "b6785028-8f51-45cc-a487-7e897b06da25",
   "metadata": {},
   "outputs": [],
   "source": [
    "import pandas as pd"
   ]
  },
  {
   "cell_type": "code",
   "execution_count": 2,
   "id": "a32e771f-c332-470e-b5ea-4abd78d0c659",
   "metadata": {},
   "outputs": [
    {
     "name": "stdout",
     "output_type": "stream",
     "text": [
      "Requirement already satisfied: pandas in /opt/conda/lib/python3.10/site-packages (1.5.2)\n",
      "Requirement already satisfied: python-dateutil>=2.8.1 in /opt/conda/lib/python3.10/site-packages (from pandas) (2.8.2)\n",
      "Requirement already satisfied: pytz>=2020.1 in /opt/conda/lib/python3.10/site-packages (from pandas) (2022.6)\n",
      "Requirement already satisfied: numpy>=1.21.0 in /opt/conda/lib/python3.10/site-packages (from pandas) (1.23.5)\n",
      "Requirement already satisfied: six>=1.5 in /opt/conda/lib/python3.10/site-packages (from python-dateutil>=2.8.1->pandas) (1.16.0)\n",
      "Note: you may need to restart the kernel to use updated packages.\n"
     ]
    }
   ],
   "source": [
    "pip install pandas"
   ]
  },
  {
   "cell_type": "markdown",
   "id": "93672b73-1bd2-4b86-889c-364f117cec4a",
   "metadata": {},
   "source": [
    "--------------------------------------------------------------------------------------------------------------------------------------"
   ]
  },
  {
   "cell_type": "markdown",
   "id": "02fa0929-4a64-4abe-b652-dca06630e79e",
   "metadata": {},
   "source": [
    "--------------------------------------------------------------------------------------------------------------------------------------"
   ]
  },
  {
   "cell_type": "markdown",
   "id": "1cdef4cf-4df4-4ab6-b9d4-2480981d2e24",
   "metadata": {},
   "source": [
    "--------------------------------------------------------------------------------------------------------------------------------------"
   ]
  },
  {
   "cell_type": "markdown",
   "id": "d4e6f358-07d4-4c2a-b47d-fe42fa94e9c5",
   "metadata": {},
   "source": [
    "Q1. Create a Pandas Series that contains the following data: 4, 8, 15, 16, 23, and 42. Then, print the series."
   ]
  },
  {
   "cell_type": "code",
   "execution_count": 7,
   "id": "e392bba0-85be-4160-8c14-fa7869c9d4b4",
   "metadata": {},
   "outputs": [
    {
     "data": {
      "text/plain": [
       "0     4\n",
       "1     8\n",
       "2    15\n",
       "3    16\n",
       "4    23\n",
       "5    42\n",
       "dtype: int64"
      ]
     },
     "execution_count": 7,
     "metadata": {},
     "output_type": "execute_result"
    }
   ],
   "source": [
    "a=[4,8,15,16,23,42]\n",
    "\n",
    "s=pd.Series(list(a))\n",
    "\n",
    "s"
   ]
  },
  {
   "cell_type": "code",
   "execution_count": null,
   "id": "6824824e-3bdf-44d8-b22a-52a3c1c0237b",
   "metadata": {},
   "outputs": [],
   "source": []
  },
  {
   "cell_type": "code",
   "execution_count": null,
   "id": "c4dac234-70f0-4238-945f-492642b82916",
   "metadata": {},
   "outputs": [],
   "source": []
  },
  {
   "cell_type": "code",
   "execution_count": null,
   "id": "9b3a4089-0784-4a34-951f-f83c91798b09",
   "metadata": {},
   "outputs": [],
   "source": []
  },
  {
   "cell_type": "markdown",
   "id": "e2b3a5c6-1bb4-4046-a034-e87b6307cb26",
   "metadata": {},
   "source": [
    "Q2. Create a variable of list type containing 10 elements in it, and apply pandas.Series function on the\n",
    "variable print it."
   ]
  },
  {
   "cell_type": "code",
   "execution_count": 8,
   "id": "91b20dc2-ca61-4bab-b59e-05565cbbd05a",
   "metadata": {},
   "outputs": [
    {
     "name": "stdout",
     "output_type": "stream",
     "text": [
      "0     2\n",
      "1     4\n",
      "2     6\n",
      "3     8\n",
      "4    10\n",
      "5    12\n",
      "6    14\n",
      "7    16\n",
      "8    18\n",
      "9    20\n",
      "dtype: int64\n"
     ]
    }
   ],
   "source": [
    "listt=[2,4,6,8,10,12,14,16,18,20]\n",
    "\n",
    "see=pd.Series(listt)\n",
    "\n",
    "print(see)"
   ]
  },
  {
   "cell_type": "code",
   "execution_count": null,
   "id": "694e5a85-4a5d-4d77-83e9-4fb524c64a0f",
   "metadata": {},
   "outputs": [],
   "source": []
  },
  {
   "cell_type": "code",
   "execution_count": null,
   "id": "bc6d9e27-0154-46ab-bc48-0f9090571ada",
   "metadata": {},
   "outputs": [],
   "source": []
  },
  {
   "cell_type": "code",
   "execution_count": null,
   "id": "ae9be082-d0e6-47eb-bee5-940eecf838a6",
   "metadata": {},
   "outputs": [],
   "source": []
  },
  {
   "cell_type": "markdown",
   "id": "fbed2054-adc3-46b2-ac37-d10f0a53d872",
   "metadata": {},
   "source": [
    "Q3. Create a Pandas DataFrame that contains the following data:"
   ]
  },
  {
   "cell_type": "code",
   "execution_count": 10,
   "id": "7b758813-85cb-4d12-85ab-334b7a6ca3bd",
   "metadata": {},
   "outputs": [],
   "source": [
    "data=pd.DataFrame({'Name':['Alice','Bob','Claire'],\n",
    "                   'Age' :[25,30,27],\n",
    "                   'Gender':['Female','Male','Female']\n",
    "                  })"
   ]
  },
  {
   "cell_type": "code",
   "execution_count": 11,
   "id": "5a1da462-b993-4384-bcc6-344c101e140b",
   "metadata": {},
   "outputs": [
    {
     "data": {
      "text/html": [
       "<div>\n",
       "<style scoped>\n",
       "    .dataframe tbody tr th:only-of-type {\n",
       "        vertical-align: middle;\n",
       "    }\n",
       "\n",
       "    .dataframe tbody tr th {\n",
       "        vertical-align: top;\n",
       "    }\n",
       "\n",
       "    .dataframe thead th {\n",
       "        text-align: right;\n",
       "    }\n",
       "</style>\n",
       "<table border=\"1\" class=\"dataframe\">\n",
       "  <thead>\n",
       "    <tr style=\"text-align: right;\">\n",
       "      <th></th>\n",
       "      <th>Name</th>\n",
       "      <th>Age</th>\n",
       "      <th>Gender</th>\n",
       "    </tr>\n",
       "  </thead>\n",
       "  <tbody>\n",
       "    <tr>\n",
       "      <th>0</th>\n",
       "      <td>Alice</td>\n",
       "      <td>25</td>\n",
       "      <td>Female</td>\n",
       "    </tr>\n",
       "    <tr>\n",
       "      <th>1</th>\n",
       "      <td>Bob</td>\n",
       "      <td>30</td>\n",
       "      <td>Male</td>\n",
       "    </tr>\n",
       "    <tr>\n",
       "      <th>2</th>\n",
       "      <td>Claire</td>\n",
       "      <td>27</td>\n",
       "      <td>Female</td>\n",
       "    </tr>\n",
       "  </tbody>\n",
       "</table>\n",
       "</div>"
      ],
      "text/plain": [
       "     Name  Age  Gender\n",
       "0   Alice   25  Female\n",
       "1     Bob   30    Male\n",
       "2  Claire   27  Female"
      ]
     },
     "execution_count": 11,
     "metadata": {},
     "output_type": "execute_result"
    }
   ],
   "source": [
    "data"
   ]
  },
  {
   "cell_type": "code",
   "execution_count": null,
   "id": "debff507-91d8-49d3-b37a-f24bf17c3408",
   "metadata": {},
   "outputs": [],
   "source": []
  },
  {
   "cell_type": "code",
   "execution_count": null,
   "id": "24c65784-1a8d-4c69-945f-9bea2319ba2f",
   "metadata": {},
   "outputs": [],
   "source": []
  },
  {
   "cell_type": "code",
   "execution_count": null,
   "id": "86d8e6ee-14ff-4d72-a20c-603516b72c59",
   "metadata": {},
   "outputs": [],
   "source": []
  },
  {
   "cell_type": "markdown",
   "id": "896497b0-118a-467b-a3ec-e7be69eae0fd",
   "metadata": {},
   "source": [
    "Q4. What is ‘DataFrame’ in pandas and how is it different from pandas.series? Explain with an example."
   ]
  },
  {
   "cell_type": "markdown",
   "id": "7457f2d9-3dc3-4dc8-bcef-56bee164133b",
   "metadata": {},
   "source": [
    "* DataFrame\n",
    "\n",
    "--> DataFrame is structured form of whole data.\n",
    "\n",
    "--> With the help of DataFrame we canvert the non-structured data into structued data.\n",
    "\n",
    "--> Series is a part of DataFrame.\n",
    "\n",
    "--> DataFrame represents the whole data and on other side Series represents a perticular coloumn or a singel line of data,this is the mejor diffrence between       them.\n",
    "\n",
    "--> We use 'pd.DataFrame' function to creat DataFrame and 'pd.Series' is used to creat Series."
   ]
  },
  {
   "cell_type": "code",
   "execution_count": 16,
   "id": "009eab64-81cc-4f22-89d5-ab09622fe2c9",
   "metadata": {},
   "outputs": [],
   "source": [
    "df =pd.DataFrame({'a':[1,2,3,4],\n",
    "       'b':[5,6,7,8],\n",
    "       'c':['Mayur','Patan','Kuldeep','Uday']\n",
    "      })\n",
    "\n",
    "sr=pd.Series(listt)"
   ]
  },
  {
   "cell_type": "code",
   "execution_count": 17,
   "id": "223fbbcf-d4ca-4584-baa0-0d173d2d5679",
   "metadata": {},
   "outputs": [
    {
     "data": {
      "text/html": [
       "<div>\n",
       "<style scoped>\n",
       "    .dataframe tbody tr th:only-of-type {\n",
       "        vertical-align: middle;\n",
       "    }\n",
       "\n",
       "    .dataframe tbody tr th {\n",
       "        vertical-align: top;\n",
       "    }\n",
       "\n",
       "    .dataframe thead th {\n",
       "        text-align: right;\n",
       "    }\n",
       "</style>\n",
       "<table border=\"1\" class=\"dataframe\">\n",
       "  <thead>\n",
       "    <tr style=\"text-align: right;\">\n",
       "      <th></th>\n",
       "      <th>a</th>\n",
       "      <th>b</th>\n",
       "      <th>c</th>\n",
       "    </tr>\n",
       "  </thead>\n",
       "  <tbody>\n",
       "    <tr>\n",
       "      <th>0</th>\n",
       "      <td>1</td>\n",
       "      <td>5</td>\n",
       "      <td>Mayur</td>\n",
       "    </tr>\n",
       "    <tr>\n",
       "      <th>1</th>\n",
       "      <td>2</td>\n",
       "      <td>6</td>\n",
       "      <td>Patan</td>\n",
       "    </tr>\n",
       "    <tr>\n",
       "      <th>2</th>\n",
       "      <td>3</td>\n",
       "      <td>7</td>\n",
       "      <td>Kuldeep</td>\n",
       "    </tr>\n",
       "    <tr>\n",
       "      <th>3</th>\n",
       "      <td>4</td>\n",
       "      <td>8</td>\n",
       "      <td>Uday</td>\n",
       "    </tr>\n",
       "  </tbody>\n",
       "</table>\n",
       "</div>"
      ],
      "text/plain": [
       "   a  b        c\n",
       "0  1  5    Mayur\n",
       "1  2  6    Patan\n",
       "2  3  7  Kuldeep\n",
       "3  4  8     Uday"
      ]
     },
     "execution_count": 17,
     "metadata": {},
     "output_type": "execute_result"
    }
   ],
   "source": [
    "# This is DataFrame\n",
    "df"
   ]
  },
  {
   "cell_type": "code",
   "execution_count": 18,
   "id": "2ceee73e-2e3c-4631-a613-2fcd502de99b",
   "metadata": {},
   "outputs": [
    {
     "data": {
      "text/plain": [
       "0     2\n",
       "1     4\n",
       "2     6\n",
       "3     8\n",
       "4    10\n",
       "5    12\n",
       "6    14\n",
       "7    16\n",
       "8    18\n",
       "9    20\n",
       "dtype: int64"
      ]
     },
     "execution_count": 18,
     "metadata": {},
     "output_type": "execute_result"
    }
   ],
   "source": [
    "# This is Series\n",
    "sr"
   ]
  },
  {
   "cell_type": "code",
   "execution_count": null,
   "id": "b5f6eb5e-d671-4ef5-b085-95f670e77d11",
   "metadata": {},
   "outputs": [],
   "source": []
  },
  {
   "cell_type": "code",
   "execution_count": null,
   "id": "9218dbdb-e862-43ff-a52f-785a77d4942a",
   "metadata": {},
   "outputs": [],
   "source": []
  },
  {
   "cell_type": "code",
   "execution_count": null,
   "id": "56552a98-94cb-4f99-8792-716bb0aada1a",
   "metadata": {},
   "outputs": [],
   "source": []
  },
  {
   "cell_type": "markdown",
   "id": "712e9656-dc41-4f93-b462-4e5c42fd7317",
   "metadata": {},
   "source": [
    "Q5. What are some common functions you can use to manipulate data in a Pandas DataFrame? Can\n",
    "you give an example of when you might use one of these functions?"
   ]
  },
  {
   "cell_type": "markdown",
   "id": "ff30e30f-4c63-4446-8fb5-816a48d157ac",
   "metadata": {},
   "source": [
    "--> There is many function in Pandas library.\n",
    "\n",
    "--> That makes our work very easy.\n",
    "\n",
    "* Thos functions are written below.\n",
    "\n",
    "(1) .drop()\n",
    "\n",
    "(2) .dropna()\n",
    "\n",
    "(3) .fillna()\n",
    "\n",
    "(4) .merge()\n",
    "\n",
    "(5) .set_index()\n",
    "\n",
    "(6) .reset_index()\n",
    "\n",
    "(7) .mean()\n",
    "\n",
    "(8) .median()\n",
    "\n",
    "(9) .mode()\n",
    "\n",
    "(10).applt"
   ]
  },
  {
   "cell_type": "markdown",
   "id": "4998d35d-2c74-4432-89a4-07b243fdae04",
   "metadata": {},
   "source": [
    "* Example\n",
    "\n",
    "Function : .apply()\n",
    "\n",
    "--> .apply() is a very important function to manipulate on DataFrame.\n",
    "\n",
    "--> With the help of this function we can apply different types of function on the DataFrame.\n",
    "\n",
    "--> We can apply our own function on DataFrame with the help of .apply() function."
   ]
  },
  {
   "cell_type": "code",
   "execution_count": null,
   "id": "c2424644-fcd3-434a-88c7-cebeba5c6416",
   "metadata": {},
   "outputs": [],
   "source": []
  },
  {
   "cell_type": "code",
   "execution_count": null,
   "id": "868e29d8-1d34-4883-a304-75fc0e642720",
   "metadata": {},
   "outputs": [],
   "source": []
  },
  {
   "cell_type": "code",
   "execution_count": null,
   "id": "5fc57652-bceb-4ee6-88e3-7fa220393c2d",
   "metadata": {},
   "outputs": [],
   "source": []
  },
  {
   "cell_type": "markdown",
   "id": "a2127c08-ab38-4ac7-89f8-55e9cac2f39a",
   "metadata": {},
   "source": [
    "Q6. Which of the following is mutable in nature Series, DataFrame, Panel?"
   ]
  },
  {
   "cell_type": "markdown",
   "id": "d5968095-27d1-445d-94b7-23944e8d6ad3",
   "metadata": {},
   "source": [
    "--> A mutable object can change after creat that and immutable object can't be changed after once it created. \n",
    "\n",
    "* According to above defination Series and DataFrame both are mutable object in Pandas."
   ]
  },
  {
   "cell_type": "code",
   "execution_count": null,
   "id": "3c5516ad-d083-4e7e-a208-ef8c08e02bc4",
   "metadata": {},
   "outputs": [],
   "source": []
  },
  {
   "cell_type": "code",
   "execution_count": null,
   "id": "e05c4d7b-1fed-47a9-a9cd-15fbfa081550",
   "metadata": {},
   "outputs": [],
   "source": []
  },
  {
   "cell_type": "code",
   "execution_count": null,
   "id": "f98cb305-2d73-4dba-8035-d22a7539a003",
   "metadata": {},
   "outputs": [],
   "source": []
  },
  {
   "cell_type": "markdown",
   "id": "b0f32055-7280-4a7a-8c6b-959155d73994",
   "metadata": {},
   "source": [
    "Q7. Create a DataFrame using multiple Series. Explain with an example."
   ]
  },
  {
   "cell_type": "code",
   "execution_count": 20,
   "id": "539027fd-595c-411d-a984-322174ca168d",
   "metadata": {},
   "outputs": [],
   "source": [
    "l1=['Mayur','Prashant','Uday']\n",
    "l2=[18,19,17]\n",
    "l3=[13,12,13]\n",
    "\n",
    "\n",
    "s1=pd.Series(l1)\n",
    "s2=pd.Series(l2)\n",
    "s3=pd.Series(l3)\n",
    "\n",
    "df=pd.DataFrame({'Name':s1,\n",
    "                 'Age':s2,\n",
    "                 'STD':s3})"
   ]
  },
  {
   "cell_type": "code",
   "execution_count": 21,
   "id": "968a59af-fc4b-43b2-9ed6-aff67ac7dfc7",
   "metadata": {},
   "outputs": [
    {
     "data": {
      "text/html": [
       "<div>\n",
       "<style scoped>\n",
       "    .dataframe tbody tr th:only-of-type {\n",
       "        vertical-align: middle;\n",
       "    }\n",
       "\n",
       "    .dataframe tbody tr th {\n",
       "        vertical-align: top;\n",
       "    }\n",
       "\n",
       "    .dataframe thead th {\n",
       "        text-align: right;\n",
       "    }\n",
       "</style>\n",
       "<table border=\"1\" class=\"dataframe\">\n",
       "  <thead>\n",
       "    <tr style=\"text-align: right;\">\n",
       "      <th></th>\n",
       "      <th>Name</th>\n",
       "      <th>Age</th>\n",
       "      <th>STD</th>\n",
       "    </tr>\n",
       "  </thead>\n",
       "  <tbody>\n",
       "    <tr>\n",
       "      <th>0</th>\n",
       "      <td>Mayur</td>\n",
       "      <td>18</td>\n",
       "      <td>13</td>\n",
       "    </tr>\n",
       "    <tr>\n",
       "      <th>1</th>\n",
       "      <td>Prashant</td>\n",
       "      <td>19</td>\n",
       "      <td>12</td>\n",
       "    </tr>\n",
       "    <tr>\n",
       "      <th>2</th>\n",
       "      <td>Uday</td>\n",
       "      <td>17</td>\n",
       "      <td>13</td>\n",
       "    </tr>\n",
       "  </tbody>\n",
       "</table>\n",
       "</div>"
      ],
      "text/plain": [
       "       Name  Age  STD\n",
       "0     Mayur   18   13\n",
       "1  Prashant   19   12\n",
       "2      Uday   17   13"
      ]
     },
     "execution_count": 21,
     "metadata": {},
     "output_type": "execute_result"
    }
   ],
   "source": [
    "df"
   ]
  },
  {
   "cell_type": "markdown",
   "id": "b207296d-9569-4656-bf55-6050da7b8dc0",
   "metadata": {},
   "source": [
    "* Explaination :\n",
    "    \n",
    "--> First of all I creat three lists,which contian Name,Age and STD.\n",
    "\n",
    "--> With the help of this lists I creat three series using pd.Series function.\n",
    "\n",
    "--> Last but not least I creat DataFrame using those multiple series."
   ]
  },
  {
   "cell_type": "code",
   "execution_count": null,
   "id": "0c67b0df-be2b-4baa-becd-ea4ab42c6214",
   "metadata": {},
   "outputs": [],
   "source": []
  }
 ],
 "metadata": {
  "kernelspec": {
   "display_name": "Python 3 (ipykernel)",
   "language": "python",
   "name": "python3"
  },
  "language_info": {
   "codemirror_mode": {
    "name": "ipython",
    "version": 3
   },
   "file_extension": ".py",
   "mimetype": "text/x-python",
   "name": "python",
   "nbconvert_exporter": "python",
   "pygments_lexer": "ipython3",
   "version": "3.10.8"
  }
 },
 "nbformat": 4,
 "nbformat_minor": 5
}
